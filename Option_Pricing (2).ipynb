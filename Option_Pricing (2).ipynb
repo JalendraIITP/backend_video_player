{
  "nbformat": 4,
  "nbformat_minor": 0,
  "metadata": {
    "colab": {
      "provenance": [],
      "collapsed_sections": [
        "naq08JcbYcjS",
        "EgCKuCptXgjK"
      ]
    },
    "kernelspec": {
      "name": "python3",
      "display_name": "Python 3"
    },
    "language_info": {
      "name": "python"
    }
  },
  "cells": [
    {
      "cell_type": "markdown",
      "source": [
        "<h1>\n",
        "  Pricing options and computing implied volatilities using Neural Networks\n",
        "</h1>\n",
        "\n",
        "---"
      ],
      "metadata": {
        "id": "nKlLhNhxCG34"
      }
    },
    {
      "cell_type": "markdown",
      "source": [
        "### **Importing necessary Libraries**"
      ],
      "metadata": {
        "id": "naq08JcbYcjS"
      }
    },
    {
      "cell_type": "code",
      "source": [
        "import numpy as np\n",
        "import pandas as pd\n",
        "import tensorflow as tf\n",
        "from scipy.stats import norm\n",
        "import matplotlib.pyplot as plt\n",
        "from tensorflow.keras import layers, models\n",
        "from sklearn.preprocessing import StandardScaler\n",
        "from sklearn.model_selection import train_test_split"
      ],
      "metadata": {
        "id": "K_fRuu9a7oNT"
      },
      "execution_count": null,
      "outputs": []
    },
    {
      "cell_type": "markdown",
      "source": [
        "### **Dataset Generation**"
      ],
      "metadata": {
        "id": "z_eZe6JuY7k9"
      }
    },
    {
      "cell_type": "markdown",
      "source": [
        "Dataset is created using 3 methods\n",
        "1. Black-Scholes model\n",
        "2. Heston model\n",
        "3. Brent’s method will be used to find\n",
        "the corresponding implied volatility"
      ],
      "metadata": {
        "id": "jk-PnkIeZQw0"
      }
    },
    {
      "cell_type": "code",
      "source": [
        "def Black_Scholes(S, K, T, r, sigma):\n",
        "    d1 = (np.log(S / K) + (r + 0.5 * sigma**2) * T) / (sigma * np.sqrt(T))\n",
        "    d2 = d1 - sigma * np.sqrt(T)\n",
        "    Call_Prices = S * norm.cdf(d1) - K * np.exp(-r * T) * norm.cdf(d2)\n",
        "    return Call_Prices\n",
        "\n",
        "# Parameters for the dataset\n",
        "n_samples = 1000\n",
        "np.random.seed(42)\n",
        "\n",
        "# Generate random values for the parameters\n",
        "S = np.random.uniform(50, 500, n_samples)       # Stock price\n",
        "K = np.random.uniform(50, 500, n_samples)       # Strike price\n",
        "T = np.random.uniform(0.1, 5, n_samples)        # Time to maturity in years\n",
        "r = np.random.uniform(0.01, 0.08, n_samples)    # Risk-free interest rate\n",
        "sigma = np.random.uniform(0.1, 0.5, n_samples)  # Volatility\n",
        "\n",
        "# Calculate the call option prices using the Black-Scholes equation\n",
        "call_prices = Black_Scholes(S, K, T, r, sigma)\n",
        "\n",
        "# Create a DataFrame to store the dataset\n",
        "df = pd.DataFrame({\n",
        "    'Stock Price (S)': S,\n",
        "    'Strike Price (K)': K,\n",
        "    'Time to Maturity (T)': T,\n",
        "    'Risk-Free Rate (r)': r,\n",
        "    'Volatility (sigma)': sigma,\n",
        "    'Call Option Price': call_prices\n",
        "})\n",
        "df.to_csv('options_data.csv', index=False)"
      ],
      "metadata": {
        "id": "-ZbdJyM_6R_H"
      },
      "execution_count": null,
      "outputs": []
    },
    {
      "cell_type": "markdown",
      "source": [
        "###  **Artifitial Neural Network**"
      ],
      "metadata": {
        "id": "EgCKuCptXgjK"
      }
    },
    {
      "cell_type": "markdown",
      "source": [
        "*Table 2. The Selected Model After the Random Search*\n",
        "\n",
        "<div>\n",
        "    <style>\n",
        "        table {\n",
        "            border-collapse: collapse;\n",
        "            width: 50%;\n",
        "            margin: 20px auto;\n",
        "            font-family: Arial, sans-serif;\n",
        "        }\n",
        "        th, td {\n",
        "            border: 1px solid #ddd;\n",
        "            padding: 8px;\n",
        "            text-align: left;\n",
        "        }\n",
        "        th {\n",
        "            background-color: #f2f2f2;\n",
        "        }\n",
        "    </style>\n",
        "    <table>\n",
        "        <thead>\n",
        "            <tr>\n",
        "                <th>Parameter</th>\n",
        "                <th>Option</th>\n",
        "            </tr>\n",
        "        </thead>\n",
        "        <tbody>\n",
        "            <tr>\n",
        "                <td>Hidden layers</td>\n",
        "                <td>4</td>\n",
        "            </tr>\n",
        "            <tr>\n",
        "                <td>Neurons (each layer)</td>\n",
        "                <td>400</td>\n",
        "            </tr>\n",
        "            <tr>\n",
        "                <td>Activation</td>\n",
        "                <td>ReLU</td>\n",
        "            </tr>\n",
        "            <tr>\n",
        "                <td>Dropout rate</td>\n",
        "                <td>0.0</td>\n",
        "            </tr>\n",
        "            <tr>\n",
        "                <td>Batch-normalization</td>\n",
        "                <td>No</td>\n",
        "            </tr>\n",
        "            <tr>\n",
        "                <td>Initialization</td>\n",
        "                <td>Glorot_uniform</td>\n",
        "            </tr>\n",
        "            <tr>\n",
        "                <td>Optimizer</td>\n",
        "                <td>Adam</td>\n",
        "            </tr>\n",
        "            <tr>\n",
        "                <td>Batch size</td>\n",
        "                <td>1024</td>\n",
        "            </tr>\n",
        "        </tbody>\n",
        "    </table>\n",
        "</div>"
      ],
      "metadata": {
        "id": "-vrJZ8RH6XAm"
      }
    },
    {
      "cell_type": "code",
      "source": [
        "'''\n",
        "Initialization of Artifitial Neural Network\n",
        "'''\n",
        "model = models.Sequential()\n",
        "\n",
        "'''\n",
        "Input layer {\n",
        "    S: Current stock price.\n",
        "    K: Strike price.\n",
        "    T: Time to maturity.\n",
        "    r: Risk-free interest rate.\n",
        "    σ: Volatility of the stock's returns.\n",
        "}\n",
        "'''\n",
        "model.add(layers.Input(shape=(5,)))\n",
        "\n",
        "'''\n",
        "4 Hidden Layers for each 400 neurons and Initialized the Weight using Glorot_uniform for better convergence.\n",
        "'''\n",
        "model.add(layers.Dense(400, activation='relu', kernel_initializer='glorot_uniform'))\n",
        "model.add(layers.Dense(400, activation='relu', kernel_initializer='glorot_uniform'))\n",
        "model.add(layers.Dense(400, activation='relu', kernel_initializer='glorot_uniform'))\n",
        "model.add(layers.Dense(400, activation='relu', kernel_initializer='glorot_uniform'))\n",
        "\n",
        "'''\n",
        "Output Layer: The output of the model is the Option Price\n",
        "'''\n",
        "model.add(layers.Dense(1, activation='linear'))"
      ],
      "metadata": {
        "id": "QOKNcGBf4XbR"
      },
      "execution_count": null,
      "outputs": []
    },
    {
      "cell_type": "markdown",
      "source": [
        "#### *Learning Rate Schedular*"
      ],
      "metadata": {
        "id": "v1HEsnEVYSnD"
      }
    },
    {
      "cell_type": "markdown",
      "source": [
        "The learning rate `LR(t)` at time `t` can be calculated using the following formula:\n",
        "\n",
        "    LR(t) = LR_min + 0.5 * (LR_max - LR_min) * (1 + cos(t * pi / step_size))\n",
        "\n",
        "Where:\n",
        "- `LR_min` = Minimum learning rate\n",
        "- `LR_max` = Maximum learning rate\n",
        "- `step_size` = Number of iterations or epochs in one cycle\n",
        "- `t` = Current iteration or epoch\n",
        "- `pi` = Pi, approximately 3.14159\n",
        "\n",
        "In this formula:\n",
        "- The cosine function provides a smooth transition between `LR_min` and `LR_max`.\n",
        "- The learning rate starts at `LR_min`, increases to `LR_max`, and then decreases back to `LR_min` over each cycle."
      ],
      "metadata": {
        "id": "-Sj1dLokJJha"
      }
    },
    {
      "cell_type": "code",
      "source": [
        "class CyclicLearningRate(tf.keras.optimizers.schedules.LearningRateSchedule):\n",
        "    def __init__(self, base_lr, max_lr, step_size, mode='triangular'):\n",
        "        super(CyclicLearningRate, self).__init__()\n",
        "        self.base_lr = base_lr\n",
        "        self.max_lr = max_lr\n",
        "        self.step_size = step_size\n",
        "        self.mode = mode\n",
        "\n",
        "    def __call__(self, step):\n",
        "        step = tf.cast(step, dtype=tf.float32)\n",
        "        cycle = tf.floor(1 + step / (2 * self.step_size))\n",
        "        x = tf.abs(step / self.step_size - 2 * cycle + 1)\n",
        "\n",
        "        if self.mode == 'triangular':\n",
        "            lr = self.base_lr + (self.max_lr - self.base_lr) * tf.maximum(0.0, (1 - x))\n",
        "        elif self.mode == 'triangular2':\n",
        "            lr = self.base_lr + (self.max_lr - self.base_lr) * tf.maximum(0.0, (1 - x)) / (2 ** (cycle - 1))\n",
        "        elif self.mode == 'exp_range':\n",
        "            lr = self.base_lr + (self.max_lr - self.base_lr) * tf.maximum(0.0, (1 - x)) * (0.9999 ** step)\n",
        "        elif self.mode == 'cosine':\n",
        "            lr = self.base_lr + ((self.max_lr - self.base_lr) * (1 + tf.math.cos(np.pi * x))) / 2\n",
        "        else:\n",
        "            raise ValueError(\"Unsupported mode: {}\".format(self.mode))\n",
        "\n",
        "        return lr"
      ],
      "metadata": {
        "id": "Ev8bZIdqM0UD"
      },
      "execution_count": null,
      "outputs": []
    },
    {
      "cell_type": "code",
      "source": [
        "# Define parameters\n",
        "LR_min = 1e-5\n",
        "LR_max = 1e-2\n",
        "step_size = 200\n",
        "SchedularType = 'cosine'   # Other options: 'triangular', 'triangular2'\n",
        "# Define CLR schedule\n",
        "clr_schedule = CyclicLearningRate(\n",
        "    base_lr=LR_min,\n",
        "    max_lr=LR_max,\n",
        "    step_size=step_size,\n",
        "    mode=SchedularType\n",
        ")"
      ],
      "metadata": {
        "id": "5D1PGwdh7QeL"
      },
      "execution_count": null,
      "outputs": []
    },
    {
      "cell_type": "markdown",
      "source": [
        "#### *Setting up optimizers & compiling model*"
      ],
      "metadata": {
        "id": "DRC8j0ScHMbR"
      }
    },
    {
      "cell_type": "code",
      "source": [
        "# Use CLR with an optimizer\n",
        "optimizer = tf.keras.optimizers.Adam(learning_rate=clr_schedule)\n",
        "\n",
        "# Compile model with the optimizer\n",
        "model.compile(optimizer=optimizer, loss='mean_squared_error',metrics=['mean_absolute_error'])"
      ],
      "metadata": {
        "id": "387hXvevGpry"
      },
      "execution_count": null,
      "outputs": []
    },
    {
      "cell_type": "markdown",
      "source": [
        "### **Training and Testing**"
      ],
      "metadata": {
        "id": "82P_ugmT3TO3"
      }
    },
    {
      "cell_type": "code",
      "source": [
        "Dataset = pd.read_csv('/content/options_data.csv')\n",
        "y = Dataset['Call Option Price'].values\n",
        "X = Dataset.drop('Call Option Price', axis=1).values\n",
        "from sklearn.model_selection import train_test_split\n",
        "X_train, X_test, y_train, y_test = train_test_split(X, y, test_size=0.02, random_state=42)\n",
        "scaller = StandardScaler()\n",
        "X_train = scaller.fit_transform(X_train)\n",
        "X_test = scaller.transform(X_test)"
      ],
      "metadata": {
        "id": "SBuX4oRd3a1f"
      },
      "execution_count": null,
      "outputs": []
    },
    {
      "cell_type": "code",
      "source": [
        "callbacks = tf.keras.callbacks.EarlyStopping(\n",
        "    monitor='val_loss',\n",
        "    min_delta=0,\n",
        "    patience=0,\n",
        "    verbose=0,\n",
        "    mode='auto',\n",
        "    baseline=None,\n",
        "    restore_best_weights=False,\n",
        "    start_from_epoch=0\n",
        ")"
      ],
      "metadata": {
        "id": "VVqSUmNfr0uI"
      },
      "execution_count": null,
      "outputs": []
    },
    {
      "cell_type": "code",
      "source": [
        "history = model.fit(X_train, y_train, epochs=100, verbose=0, validation_split=0.2)"
      ],
      "metadata": {
        "id": "EHLlX66O473n"
      },
      "execution_count": null,
      "outputs": []
    },
    {
      "cell_type": "code",
      "source": [
        "plt.figure(figsize=(10, 6))\n",
        "plt.plot(history.history['loss'], label='Training Loss')\n",
        "plt.plot(history.history['val_loss'], label='Validation Loss')\n",
        "plt.title('Model Loss')\n",
        "plt.xlabel('Epoch')\n",
        "plt.ylabel('Loss')\n",
        "plt.legend(loc='upper right')\n",
        "plt.grid(True)\n",
        "plt.show()"
      ],
      "metadata": {
        "colab": {
          "base_uri": "https://localhost:8080/",
          "height": 564
        },
        "id": "SFYYmOzgIuHM",
        "outputId": "3591878a-906b-4bec-fc27-210f29e4cf94"
      },
      "execution_count": null,
      "outputs": [
        {
          "output_type": "display_data",
          "data": {
            "text/plain": [
              "<Figure size 1000x600 with 1 Axes>"
            ],
            "image/png": "[encoded data removed]"
          },
          "metadata": {}
        }
      ]
    },
    {
      "cell_type": "code",
      "source": [
        "y_pred = model.predict(X_test)\n",
        "for i in range(len(y_pred)):\n",
        "  print(y_test[i],y_pred[i])"
      ],
      "metadata": {
        "colab": {
          "base_uri": "https://localhost:8080/"
        },
        "id": "UILufAmnxg5K",
        "outputId": "5fb5714f-000d-4c9e-d39c-0ae143433679"
      },
      "execution_count": null,
      "outputs": [
        {
          "output_type": "stream",
          "name": "stdout",
          "text": [
            "\u001b[1m7/7\u001b[0m \u001b[32m━━━━━━━━━━━━━━━━━━━━\u001b[0m\u001b[37m\u001b[0m \u001b[1m0s\u001b[0m 14ms/step\n",
            "132.51847369510233 [125.15892]\n",
            "57.26550181306362 [56.181366]\n",
            "218.2477839363511 [212.49438]\n",
            "1.2419683940183e-07 [-0.34957027]\n",
            "25.94397620255819 [24.333899]\n",
            "114.37728294404474 [110.922745]\n",
            "1.6019928520552806 [1.8348697]\n",
            "152.04160314168405 [146.92178]\n",
            "93.1108297615934 [88.917244]\n",
            "0.0012061082703466 [-0.07730412]\n",
            "172.91133858686533 [159.5792]\n",
            "261.79430300931 [255.01447]\n",
            "35.19112217562376 [35.66169]\n",
            "108.10544429663518 [100.9324]\n",
            "3.10058345607969 [2.9940743]\n",
            "4.45668811204332 [4.0650487]\n",
            "66.72351137645181 [63.97789]\n",
            "256.126100412245 [248.74377]\n",
            "198.2301304417311 [190.74246]\n",
            "63.137853122864186 [61.683258]\n",
            "213.15439858303645 [209.3964]\n",
            "6.793476584737685e-17 [-0.4279158]\n",
            "193.6945050669642 [188.2049]\n",
            "160.22487466580458 [156.87976]\n",
            "196.4886709597037 [189.31375]\n",
            "29.120630142435655 [29.796896]\n",
            "114.75138714570409 [108.46895]\n",
            "145.37059952971202 [140.4865]\n",
            "101.1956333882597 [95.52559]\n",
            "54.276563844365285 [54.82153]\n",
            "236.38787065600783 [232.82108]\n",
            "0.942177632672228 [1.0943661]\n",
            "76.76631501251961 [72.71017]\n",
            "289.9422568432094 [278.95193]\n",
            "347.8250757526638 [337.40823]\n",
            "259.1889491822395 [247.96617]\n",
            "278.9855543617233 [267.8433]\n",
            "67.30646252378119 [65.59922]\n",
            "57.99876579622229 [59.1657]\n",
            "123.09916966350085 [118.89317]\n",
            "16.42245821610151 [17.158442]\n",
            "238.8908581758789 [231.01582]\n",
            "28.09187165406994 [27.34833]\n",
            "0.086510955389739 [0.08241868]\n",
            "9.474317998292037 [9.71525]\n",
            "153.56471682773753 [148.88792]\n",
            "0.2658501660037982 [0.10561562]\n",
            "68.97137641219572 [69.243256]\n",
            "36.62895249335254 [35.562527]\n",
            "95.23346911632284 [92.79579]\n",
            "47.20723036139115 [43.79086]\n",
            "1.1965893176185425 [1.1204468]\n",
            "120.3344099168126 [118.88896]\n",
            "138.671091079965 [136.24591]\n",
            "159.82247729156646 [158.23975]\n",
            "3.680344718099832 [3.4614308]\n",
            "48.40530014071183 [49.163628]\n",
            "2.514638531992439 [2.0675113]\n",
            "189.21567887179083 [178.20723]\n",
            "136.8875286201657 [131.61188]\n",
            "42.66617285021604 [42.27867]\n",
            "0.4860634568526261 [0.22692585]\n",
            "211.16573071281368 [204.15349]\n",
            "157.0922146305022 [154.49785]\n",
            "99.8777391457866 [97.2635]\n",
            "159.82934349259966 [156.59283]\n",
            "148.6507886195045 [142.01096]\n",
            "180.27132713137016 [174.13252]\n",
            "405.92833143446313 [389.69873]\n",
            "1.5111196216630454 [1.3647358]\n",
            "155.30560650915595 [150.52686]\n",
            "387.8245702278997 [375.88474]\n",
            "92.0647667105767 [87.35654]\n",
            "21.69700649875988 [20.162264]\n",
            "230.14009405159277 [224.7982]\n",
            "4.7344918342681136e-18 [-0.21866632]\n",
            "81.67979276041257 [84.843]\n",
            "24.304769226878328 [24.478498]\n",
            "0.0001299034468576 [-0.27467966]\n",
            "271.3383261803308 [264.57523]\n",
            "97.44485533806572 [93.689545]\n",
            "39.35577640075712 [37.07644]\n",
            "85.11933808515059 [83.773834]\n",
            "45.20005828677702 [46.670277]\n",
            "6.743073988236016e-13 [-0.30442476]\n",
            "6.479472483333339 [5.4828663]\n",
            "0.6059038205446088 [0.36686993]\n",
            "49.45231866198432 [50.690094]\n",
            "146.1777684157081 [140.37923]\n",
            "60.52149484876061 [60.18016]\n",
            "6.1896784375807385 [5.7954187]\n",
            "221.44843885634083 [212.73538]\n",
            "13.874830900602454 [12.568708]\n",
            "192.6470434904668 [182.29924]\n",
            "136.82994511247836 [129.65555]\n",
            "174.77878106955308 [167.58467]\n",
            "75.12308969384918 [72.71314]\n",
            "187.5665712025355 [180.49088]\n",
            "61.8959720249391 [60.533295]\n",
            "2.781324080999319 [2.4143295]\n",
            "6.451794475640213e-07 [-0.18370247]\n",
            "208.46781094864315 [200.0944]\n",
            "54.41596725573866 [55.221092]\n",
            "287.90273432017693 [280.749]\n",
            "1.234132658855032e-07 [-0.44017148]\n",
            "282.448854245715 [268.80753]\n",
            "5.478572308938949 [5.416214]\n",
            "19.260804980294864 [18.587692]\n",
            "150.20190730914007 [148.75986]\n",
            "132.75636978769276 [126.5471]\n",
            "0.0212659184618639 [-0.19684148]\n",
            "133.58640623277125 [131.45198]\n",
            "26.3201276135227 [25.6826]\n",
            "129.35255093962215 [129.47134]\n",
            "145.43907577506795 [144.21109]\n",
            "86.80060675034696 [85.15757]\n",
            "100.84941982907408 [95.527374]\n",
            "41.55151986606174 [38.93188]\n",
            "237.3326876064025 [231.03223]\n",
            "226.60246368529832 [220.37186]\n",
            "202.53925486838827 [197.49707]\n",
            "11.119182200113691 [11.154999]\n",
            "246.750703979893 [234.68076]\n",
            "98.88803828456052 [99.11777]\n",
            "1.5778494023319718 [1.621317]\n",
            "264.0890925503396 [253.93747]\n",
            "259.5834278866218 [253.332]\n",
            "0.000589692435545 [-0.22823381]\n",
            "71.15088223247055 [69.29665]\n",
            "38.49256738038444 [37.736237]\n",
            "150.86579740112006 [149.54755]\n",
            "7.256037030962489 [7.407363]\n",
            "224.32531125576645 [216.01451]\n",
            "159.5929958140493 [153.71796]\n",
            "51.20962143765284 [46.55887]\n",
            "7.253531245366474 [7.4596224]\n",
            "45.76337378445902 [42.950542]\n",
            "0.0578763325810287 [-0.03881884]\n",
            "98.33510717308974 [98.56056]\n",
            "2.599669174791716 [2.3545306]\n",
            "50.94275418952262 [51.41516]\n",
            "19.90116648800961 [19.895021]\n",
            "154.2874790255332 [145.27396]\n",
            "123.01412211209126 [120.17415]\n",
            "37.42635681577042 [38.84255]\n",
            "224.56484774213857 [219.34534]\n",
            "55.431322452878696 [52.350903]\n",
            "9.971567543795494 [9.649797]\n",
            "131.95727384794014 [122.854034]\n",
            "4.899433182525208e-07 [-0.27571082]\n",
            "358.6735443876711 [348.70502]\n",
            "245.7499755558988 [240.49936]\n",
            "177.60052698476235 [172.16684]\n",
            "157.00359353884426 [148.62009]\n",
            "116.94958927856985 [110.0912]\n",
            "1.1479746882578032 [1.4366616]\n",
            "385.5249813544198 [374.7319]\n",
            "0.0013454343455177 [-0.33175516]\n",
            "197.136622393933 [190.40707]\n",
            "134.08121877753 [133.83325]\n",
            "3.228958770215945e-15 [-0.4114213]\n",
            "0.0002801264529036 [-0.13651752]\n",
            "0.008842573941205 [-0.08012056]\n",
            "322.07483122554123 [309.8924]\n",
            "1.5660146972087985 [1.9711791]\n",
            "88.44458203210907 [84.79297]\n",
            "9.745582048904744 [10.3157015]\n",
            "3.822579067429666e-07 [-0.07436466]\n",
            "75.2657173600463 [73.54375]\n",
            "361.7463751088691 [353.19504]\n",
            "56.04345496478575 [57.088303]\n",
            "117.62395486025582 [114.46527]\n",
            "161.96876171163817 [157.32104]\n",
            "0.2645616041399545 [0.18079042]\n",
            "15.47821777378936 [14.644184]\n",
            "240.8572184395932 [234.8592]\n",
            "25.99323725311405 [26.275434]\n",
            "245.7964250900537 [240.83195]\n",
            "184.609398199582 [180.57198]\n",
            "9.500952795452562 [9.743927]\n",
            "180.2092144716796 [175.78778]\n",
            "10.4536061779995 [10.473608]\n",
            "105.068308770142 [102.78949]\n",
            "57.39787731679675 [55.57108]\n",
            "45.27475235334653 [42.820663]\n",
            "61.992878767504976 [62.263844]\n",
            "14.884530770301694 [15.915983]\n",
            "19.457703483844423 [19.37476]\n",
            "214.3741743776716 [209.65945]\n",
            "16.551427359995422 [15.977826]\n",
            "32.133840061457136 [31.785044]\n",
            "178.5353139291244 [170.1605]\n",
            "290.4619243335627 [281.98087]\n",
            "1.9536743051447656 [1.6270304]\n",
            "38.4436808175942 [37.58901]\n",
            "49.97796765425073 [50.33732]\n",
            "246.5838809568152 [238.24799]\n",
            "81.51778045111055 [77.24205]\n",
            "191.85681092603804 [185.39426]\n",
            "5.001111292487091e-18 [-0.4509139]\n"
          ]
        }
      ]
    }
  ]
}